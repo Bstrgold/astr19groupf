{
 "cells": [
  {
   "cell_type": "markdown",
   "id": "81a02b72-6876-4924-9256-220a5be46ee9",
   "metadata": {
    "id": "81a02b72-6876-4924-9256-220a5be46ee9"
   },
   "source": [
    "# Function for calculating the mass of an exoplanet\n",
    "\n",
    "For M_cnc, add the masses of the two stars of the 55 cnc system. M_cnc = (0.2648230±0.0202096) + (0.905±0.015) = (1.1698230±0.0352096)"
   ]
  },
  {
   "cell_type": "code",
   "execution_count": null,
   "id": "284ade12-b1bd-4220-bf5a-2a155416e370",
   "metadata": {
    "id": "284ade12-b1bd-4220-bf5a-2a155416e370"
   },
   "outputs": [],
   "source": [
    "def mass_exoplanet(Ms, K, P):\n",
    "    # Ms is mass of Star, K is amplitude, P is Period\n",
    "    Mp = (K / 28.4) * ((P / 365)**(1/3)) * ((Ms)**(2/3))\n",
    "    return Mp\n"
   ]
  },
  {
   "cell_type": "markdown",
   "id": "76f34774-2666-46f1-9e26-cbd1962efe6a",
   "metadata": {
    "id": "76f34774-2666-46f1-9e26-cbd1962efe6a"
   },
   "source": [
    "Test the function for WASP-39b exoplanet"
   ]
  },
  {
   "cell_type": "code",
   "execution_count": null,
   "id": "7735adb4-7ce7-4dfa-b87a-f17672e948a2",
   "metadata": {
    "colab": {
     "base_uri": "https://localhost:8080/"
    },
    "id": "7735adb4-7ce7-4dfa-b87a-f17672e948a2",
    "outputId": "ecfac98c-1ee8-4b8e-e4b6-7bd737e12c13"
   },
   "outputs": [
    {
     "name": "stdout",
     "output_type": "stream",
     "text": [
      "0.273730925947489\n"
     ]
    }
   ],
   "source": [
    "if __name__ == \"__main__\":\n",
    "    Mp = mass_exoplanet(0.918, 36.9, 4.05)\n",
    "    print(Mp)"
   ]
  }
 ],
 "metadata": {
  "colab": {
   "provenance": []
  },
  "kernelspec": {
   "display_name": "Python 3 (ipykernel)",
   "language": "python",
   "name": "python3"
  },
  "language_info": {
   "codemirror_mode": {
    "name": "ipython",
    "version": 3
   },
   "file_extension": ".py",
   "mimetype": "text/x-python",
   "name": "python",
   "nbconvert_exporter": "python",
   "pygments_lexer": "ipython3",
   "version": "3.13.2"
  }
 },
 "nbformat": 4,
 "nbformat_minor": 5
}
